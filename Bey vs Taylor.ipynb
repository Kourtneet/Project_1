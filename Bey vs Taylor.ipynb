{
 "cells": [
  {
   "cell_type": "code",
   "execution_count": null,
   "id": "beef4781",
   "metadata": {},
   "outputs": [],
   "source": [
    "https://open.spotify.com/track/5IVuqXILoxVWvWEPm82Jxr?si=cf9b991255a84750"
   ]
  },
  {
   "cell_type": "code",
   "execution_count": null,
   "id": "50a32836",
   "metadata": {},
   "outputs": [],
   "source": [
    "https://open.spotify.com/artist/6vWDO969PvNqNYHIOW5v0m?si=01e838ec5ef6447a"
   ]
  }
 ],
 "metadata": {
  "kernelspec": {
   "display_name": "Python 3 (ipykernel)",
   "language": "python",
   "name": "python3"
  },
  "language_info": {
   "codemirror_mode": {
    "name": "ipython",
    "version": 3
   },
   "file_extension": ".py",
   "mimetype": "text/x-python",
   "name": "python",
   "nbconvert_exporter": "python",
   "pygments_lexer": "ipython3",
   "version": "3.11.5"
  }
 },
 "nbformat": 4,
 "nbformat_minor": 5
}
